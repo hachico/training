{
  "nbformat": 4,
  "nbformat_minor": 0,
  "metadata": {
    "colab": {
      "name": "データクリーニング.ipynb",
      "provenance": [],
      "collapsed_sections": [],
      "toc_visible": true,
      "mount_file_id": "1Vm10UGR57dA3KTwX7RL7Q1Nu8J8znfzM",
      "authorship_tag": "ABX9TyN8w6cM/QZd3sfR+kG2gyG0",
      "include_colab_link": true
    },
    "kernelspec": {
      "name": "python3",
      "display_name": "Python 3"
    }
  },
  "cells": [
    {
      "cell_type": "markdown",
      "metadata": {
        "id": "view-in-github",
        "colab_type": "text"
      },
      "source": [
        "<a href=\"https://colab.research.google.com/github/hachico/training/blob/master/%E3%83%87%E3%83%BC%E3%82%BF%E3%82%AF%E3%83%AA%E3%83%BC%E3%83%8B%E3%83%B3%E3%82%B0.ipynb\" target=\"_parent\"><img src=\"https://colab.research.google.com/assets/colab-badge.svg\" alt=\"Open In Colab\"/></a>"
      ]
    },
    {
      "cell_type": "markdown",
      "metadata": {
        "id": "FfL2iqq8lVsp"
      },
      "source": [
        "\n",
        "\n",
        "# リスティングデータ\n",
        "\n"
      ]
    },
    {
      "cell_type": "code",
      "metadata": {
        "id": "Ehq04IFuy-u_",
        "colab": {
          "base_uri": "https://localhost:8080/"
        },
        "outputId": "6160a758-fbb5-43ce-ae2f-349a5a030da1"
      },
      "source": [
        "from pathlib import Path\n",
        "import pandas as pd\n",
        "pd.set_option('display.max_columns', 50)\n",
        "listing = pd.DataFrame()\n",
        "p = Path('/content/drive/MyDrive/データ置き場/こくみん共済POC/リスティング')\n",
        "#for fpath in p.glob('*美*full*.csv'):\n",
        "#for fpath in p.glob('*フルー*30day.csv'):\n",
        "for fpath in p.glob('*poc.csv'):\n",
        "    print(fpath)\n",
        "    listing = listing.append(pd.read_csv(fpath, dtype=object, encoding=\"shift-jis\"))"
      ],
      "execution_count": null,
      "outputs": [
        {
          "output_type": "stream",
          "text": [
            "/content/drive/MyDrive/データ置き場/こくみん共済POC/リスティング/【送付用】全労済消化チェック_20200101-20200131_poc.csv\n",
            "/content/drive/MyDrive/データ置き場/こくみん共済POC/リスティング/【送付用】全労済消化チェック_20200201-20200229_poc.csv\n",
            "/content/drive/MyDrive/データ置き場/こくみん共済POC/リスティング/【送付用】全労済消化チェック_20200301-20200331_poc.csv\n",
            "/content/drive/MyDrive/データ置き場/こくみん共済POC/リスティング/【送付用】全労済消化チェック_20200401-20200430_poc.csv\n",
            "/content/drive/MyDrive/データ置き場/こくみん共済POC/リスティング/【送付用】全労済消化チェック_20200501-20200531_poc.csv\n",
            "/content/drive/MyDrive/データ置き場/こくみん共済POC/リスティング/【送付用】全労済消化チェック_20200601-20200630_poc.csv\n",
            "/content/drive/MyDrive/データ置き場/こくみん共済POC/リスティング/【送付用】全労済消化チェック_20200701-20200731_poc.csv\n",
            "/content/drive/MyDrive/データ置き場/こくみん共済POC/リスティング/【送付用】全労済消化チェック_20200801-20200831_poc.csv\n",
            "/content/drive/MyDrive/データ置き場/こくみん共済POC/リスティング/【送付用】全労済消化チェック_20201001-20201031_poc.csv\n",
            "/content/drive/MyDrive/データ置き場/こくみん共済POC/リスティング/【送付用】全労済消化チェック_20201101-20201130_poc.csv\n",
            "/content/drive/MyDrive/データ置き場/こくみん共済POC/リスティング/【送付用】全労済消化チェック_20201201-20201231_poc.csv\n",
            "/content/drive/MyDrive/データ置き場/こくみん共済POC/リスティング/【送付用】全労済消化チェック_20200901-20200930_poc.csv\n"
          ],
          "name": "stdout"
        }
      ]
    },
    {
      "cell_type": "code",
      "metadata": {
        "id": "dJ4KBxgDfQvi",
        "colab": {
          "base_uri": "https://localhost:8080/"
        },
        "outputId": "fe87e7dd-da3b-4838-8deb-3803e28ad021"
      },
      "source": [
        "print(listing.head())\n",
        "print('++++')\n",
        "print(listing['click'].str.replace(',',''))\n",
        "print('++++')\n",
        "print('++++')\n",
        "print(listing[listing['media']=='yahoo_listing'])"
      ],
      "execution_count": null,
      "outputs": [
        {
          "output_type": "stream",
          "text": [
            "       date           media       agency     imp  click      cost CV_資料請求  \\\n",
            "0  2020/1/1  google_listing  transcosmos   9,793    723  150602.4      13   \n",
            "1  2020/1/2  google_listing  transcosmos  11,386    928  233018.4      26   \n",
            "2  2020/1/3  google_listing  transcosmos  13,884  1,098  242560.8      34   \n",
            "3  2020/1/4  google_listing  transcosmos  17,490  1,359    347484      41   \n",
            "4  2020/1/5  google_listing  transcosmos  20,884  1,771  313754.4      43   \n",
            "\n",
            "  CV_お見積もり  \n",
            "0        2  \n",
            "1        1  \n",
            "2        6  \n",
            "3        7  \n",
            "4       11  \n",
            "++++\n",
            "0      723\n",
            "1      928\n",
            "2     1098\n",
            "3     1359\n",
            "4     1771\n",
            "      ... \n",
            "55    1098\n",
            "56     983\n",
            "57    1293\n",
            "58    1361\n",
            "59    1369\n",
            "Name: click, Length: 732, dtype: object\n",
            "++++\n",
            "++++\n",
            "         date          media       agency    imp click      cost CV_資料請求  \\\n",
            "31   2020/1/1  yahoo_listing  transcosmos  21787   431   65122.8       9   \n",
            "32   2020/1/2  yahoo_listing  transcosmos  30264   581   93034.8      25   \n",
            "33   2020/1/3  yahoo_listing  transcosmos  37768   731  119379.6      17   \n",
            "34   2020/1/4  yahoo_listing  transcosmos  44720   923  163251.6      22   \n",
            "35   2020/1/5  yahoo_listing  transcosmos  58854  1257  203134.8      33   \n",
            "..        ...            ...          ...    ...   ...       ...     ...   \n",
            "55  2020/9/26  yahoo_listing  transcosmos  18926  1098  224031.6      22   \n",
            "56  2020/9/27  yahoo_listing  transcosmos  15052   983  175906.8      24   \n",
            "57  2020/9/28  yahoo_listing  transcosmos  21605  1293  203702.4      33   \n",
            "58  2020/9/29  yahoo_listing  transcosmos  25765  1361  197389.2      31   \n",
            "59  2020/9/30  yahoo_listing  transcosmos  32041  1369  171862.8      16   \n",
            "\n",
            "   CV_お見積もり  \n",
            "31        5  \n",
            "32        2  \n",
            "33        7  \n",
            "34        5  \n",
            "35        5  \n",
            "..      ...  \n",
            "55        3  \n",
            "56       14  \n",
            "57       12  \n",
            "58        8  \n",
            "59       14  \n",
            "\n",
            "[366 rows x 8 columns]\n"
          ],
          "name": "stdout"
        }
      ]
    },
    {
      "cell_type": "code",
      "metadata": {
        "colab": {
          "base_uri": "https://localhost:8080/"
        },
        "id": "qXe9LS7jSKDw",
        "outputId": "db37c3b9-7b41-4b2d-8f61-cacec61218aa"
      },
      "source": [
        "#listing['media_name'] = 'google'\n",
        "listing.loc[listing['media']=='yahoo_listing', 'media_name'] = 'yahoo'\n",
        "listing.loc[listing['media']=='google_listing', 'media_name'] = 'google'\n",
        "\n",
        "#listing['media_name'] = 'google'\n",
        "listing['media_type'] = 'listing'\n",
        "listing['lp'] = 'ALL'\n",
        "listing['imp'] = listing['imp'].str.replace(',','')\n",
        "listing['click'] = listing['click'].str.replace(',','')\n",
        "#df_new = listing.rename(columns={'CV_資料請求': 'conversions_shiryouseikyu','CV_お見積もり': 'conversion_webentry'})\n",
        "df_new = listing.rename(columns={'CV_資料請求': 'conversions_shiryouseikyu','CV_お見積もり': 'cv'})\n",
        "#print(df_new.head())\n",
        "print(df_new.columns)\n",
        "print(df_new['media_name'].unique())"
      ],
      "execution_count": null,
      "outputs": [
        {
          "output_type": "stream",
          "text": [
            "Index(['date', 'media', 'agency', 'imp', 'click', 'cost',\n",
            "       'conversions_shiryouseikyu', 'cv', 'media_name', 'media_type', 'lp'],\n",
            "      dtype='object')\n",
            "['google' 'yahoo']\n"
          ],
          "name": "stdout"
        }
      ]
    },
    {
      "cell_type": "code",
      "metadata": {
        "colab": {
          "base_uri": "https://localhost:8080/"
        },
        "id": "S9m3ZX9iWSw-",
        "outputId": "3ac71547-2b43-422c-dffb-110f7d9d311a"
      },
      "source": [
        "df_new = df_new.astype({'imp': 'int', 'click': 'int', 'cost': 'int', 'cost': 'float', 'conversions_shiryouseikyu': 'int', 'cv': 'int'})\n",
        "print(df_new.head())"
      ],
      "execution_count": null,
      "outputs": [
        {
          "output_type": "stream",
          "text": [
            "       date           media       agency    imp  click      cost  \\\n",
            "0  2020/1/1  google_listing  transcosmos   9793    723  150602.4   \n",
            "1  2020/1/2  google_listing  transcosmos  11386    928  233018.4   \n",
            "2  2020/1/3  google_listing  transcosmos  13884   1098  242560.8   \n",
            "3  2020/1/4  google_listing  transcosmos  17490   1359  347484.0   \n",
            "4  2020/1/5  google_listing  transcosmos  20884   1771  313754.4   \n",
            "\n",
            "   conversions_shiryouseikyu  cv media_name media_type   lp  \n",
            "0                         13   2     google    listing  ALL  \n",
            "1                         26   1     google    listing  ALL  \n",
            "2                         34   6     google    listing  ALL  \n",
            "3                         41   7     google    listing  ALL  \n",
            "4                         43  11     google    listing  ALL  \n"
          ],
          "name": "stdout"
        }
      ]
    },
    {
      "cell_type": "code",
      "metadata": {
        "id": "2Bj-4PM7YFwh"
      },
      "source": [
        "df_new[['date', 'agency', 'media_name', 'media_type', 'lp', 'imp', 'click', 'cost','cv']].to_csv('/content/drive/MyDrive/データ置き場/こくみん共済POC/transcosmos_listing.csv', \\\n",
        "                                                                                                                                       encoding='utf-8', \\\n",
        "                                                                                                                                       index=False, \\\n",
        "                                                                                                                                       quoting=2)"
      ],
      "execution_count": null,
      "outputs": []
    },
    {
      "cell_type": "markdown",
      "metadata": {
        "id": "7B0fc4_MlgKi"
      },
      "source": [
        "\n",
        "\n",
        "#サチコ\n"
      ]
    },
    {
      "cell_type": "code",
      "metadata": {
        "id": "w8Bk_n3mcHUq",
        "colab": {
          "base_uri": "https://localhost:8080/"
        },
        "outputId": "6a1e357b-c1d9-46ab-b661-55a0a383fa98"
      },
      "source": [
        "from pathlib import Path\n",
        "import pandas as pd\n",
        "pd.set_option('display.max_columns', 50)\n",
        "organic = pd.DataFrame()\n",
        "p = Path('/content/drive/MyDrive/データ置き場/こくみん共済POC/search console/')\n",
        "for fpath in p.glob('search*.csv'):\n",
        "    print(fpath)\n",
        "    organic = organic.append(pd.read_csv(fpath, dtype=object, encoding=\"utf-8\"))\n",
        "#print(organic.columns)\n",
        "#sample.groupby(\"ID\").agg({\"閲覧時間\":\"nunique\",\"ID\":\"count\"})\n",
        "#sample.groupby(\"閲覧時間\").agg({\"セッション\":[\"max\",\"min\",\n",
        "#                                             lambda x:np.percentile(x,q=98)]}).reset_index()\n",
        "organic['CTR'] = organic['CTR'].str.replace('%','')\n",
        "organic = organic.astype({'click': 'int', 'impressions': 'int', 'CTR': 'float', 'rank': 'float'})\n",
        "organic_data = organic.groupby('date').agg({'click':'sum', 'impressions':'sum', 'CTR':'mean', 'rank':'mean'}).reset_index()"
      ],
      "execution_count": null,
      "outputs": [
        {
          "output_type": "stream",
          "text": [
            "/content/drive/MyDrive/データ置き場/こくみん共済POC/search console/search_organic_kokuminkyosai_kanji.csv\n",
            "/content/drive/MyDrive/データ置き場/こくみん共済POC/search console/search_organic_kokuminkyosai_hiragana.csv\n"
          ],
          "name": "stdout"
        }
      ]
    },
    {
      "cell_type": "code",
      "metadata": {
        "colab": {
          "base_uri": "https://localhost:8080/",
          "height": 204
        },
        "id": "W9HK-YQHihkK",
        "outputId": "4e46119f-e624-4dbe-c1ed-c1d51fc861d2"
      },
      "source": [
        "organic_data['agency'] = 'none'\n",
        "organic_data['media_name'] = 'google_organic'\n",
        "organic_data['media_type'] = 'organic'\n",
        "organic_data['lp'] = 'allsite'\n",
        "organic_data = organic_data.rename(columns={'impressions': 'imp'})\n",
        "organic_data.head()"
      ],
      "execution_count": null,
      "outputs": [
        {
          "output_type": "execute_result",
          "data": {
            "text/html": [
              "<div>\n",
              "<style scoped>\n",
              "    .dataframe tbody tr th:only-of-type {\n",
              "        vertical-align: middle;\n",
              "    }\n",
              "\n",
              "    .dataframe tbody tr th {\n",
              "        vertical-align: top;\n",
              "    }\n",
              "\n",
              "    .dataframe thead th {\n",
              "        text-align: right;\n",
              "    }\n",
              "</style>\n",
              "<table border=\"1\" class=\"dataframe\">\n",
              "  <thead>\n",
              "    <tr style=\"text-align: right;\">\n",
              "      <th></th>\n",
              "      <th>date</th>\n",
              "      <th>click</th>\n",
              "      <th>imp</th>\n",
              "      <th>CTR</th>\n",
              "      <th>rank</th>\n",
              "      <th>agency</th>\n",
              "      <th>media_name</th>\n",
              "      <th>media_type</th>\n",
              "      <th>lp</th>\n",
              "    </tr>\n",
              "  </thead>\n",
              "  <tbody>\n",
              "    <tr>\n",
              "      <th>0</th>\n",
              "      <td>2020-01-01</td>\n",
              "      <td>367</td>\n",
              "      <td>1115</td>\n",
              "      <td>31.615</td>\n",
              "      <td>1.350</td>\n",
              "      <td>none</td>\n",
              "      <td>google_organic</td>\n",
              "      <td>organic</td>\n",
              "      <td>allsite</td>\n",
              "    </tr>\n",
              "    <tr>\n",
              "      <th>1</th>\n",
              "      <td>2020-01-02</td>\n",
              "      <td>425</td>\n",
              "      <td>1375</td>\n",
              "      <td>30.480</td>\n",
              "      <td>1.335</td>\n",
              "      <td>none</td>\n",
              "      <td>google_organic</td>\n",
              "      <td>organic</td>\n",
              "      <td>allsite</td>\n",
              "    </tr>\n",
              "    <tr>\n",
              "      <th>2</th>\n",
              "      <td>2020-01-03</td>\n",
              "      <td>480</td>\n",
              "      <td>1626</td>\n",
              "      <td>29.395</td>\n",
              "      <td>1.335</td>\n",
              "      <td>none</td>\n",
              "      <td>google_organic</td>\n",
              "      <td>organic</td>\n",
              "      <td>allsite</td>\n",
              "    </tr>\n",
              "    <tr>\n",
              "      <th>3</th>\n",
              "      <td>2020-01-04</td>\n",
              "      <td>652</td>\n",
              "      <td>1942</td>\n",
              "      <td>33.930</td>\n",
              "      <td>1.335</td>\n",
              "      <td>none</td>\n",
              "      <td>google_organic</td>\n",
              "      <td>organic</td>\n",
              "      <td>allsite</td>\n",
              "    </tr>\n",
              "    <tr>\n",
              "      <th>4</th>\n",
              "      <td>2020-01-05</td>\n",
              "      <td>1121</td>\n",
              "      <td>3586</td>\n",
              "      <td>31.170</td>\n",
              "      <td>1.255</td>\n",
              "      <td>none</td>\n",
              "      <td>google_organic</td>\n",
              "      <td>organic</td>\n",
              "      <td>allsite</td>\n",
              "    </tr>\n",
              "  </tbody>\n",
              "</table>\n",
              "</div>"
            ],
            "text/plain": [
              "         date  click   imp     CTR   rank agency      media_name media_type  \\\n",
              "0  2020-01-01    367  1115  31.615  1.350   none  google_organic    organic   \n",
              "1  2020-01-02    425  1375  30.480  1.335   none  google_organic    organic   \n",
              "2  2020-01-03    480  1626  29.395  1.335   none  google_organic    organic   \n",
              "3  2020-01-04    652  1942  33.930  1.335   none  google_organic    organic   \n",
              "4  2020-01-05   1121  3586  31.170  1.255   none  google_organic    organic   \n",
              "\n",
              "        lp  \n",
              "0  allsite  \n",
              "1  allsite  \n",
              "2  allsite  \n",
              "3  allsite  \n",
              "4  allsite  "
            ]
          },
          "metadata": {
            "tags": []
          },
          "execution_count": 19
        }
      ]
    },
    {
      "cell_type": "code",
      "metadata": {
        "id": "u0C6qN0OkLhT"
      },
      "source": [
        "organic_data[['date',\"agency\",\"media_name\",\"media_type\",\"lp\",\"imp\",\"click\", 'rank']].to_csv('/content/drive/MyDrive/データ置き場/こくみん共済POC/google_organic.csv', index=False, encoding='utf-8', quoting=2)"
      ],
      "execution_count": null,
      "outputs": []
    },
    {
      "cell_type": "markdown",
      "metadata": {
        "id": "Zs7dWRlkBdiZ"
      },
      "source": [
        "#twitterデータの整備\n",
        "\n"
      ]
    },
    {
      "cell_type": "code",
      "metadata": {
        "colab": {
          "base_uri": "https://localhost:8080/"
        },
        "id": "_Od9opkhkNzE",
        "outputId": "59c09118-d90c-422c-b628-a54ddbcc1028"
      },
      "source": [
        "from pathlib import Path\n",
        "import pandas as pd\n",
        "import numpy as np\n",
        "twitter = pd.DataFrame()\n",
        "p = Path('/content/drive/MyDrive/データ置き場/こくみん共済POC/朝広実施デジタル/')\n",
        "for fpath in p.glob('*Twitter*.csv'):\n",
        "    print(fpath)\n",
        "    twitter = twitter.append(pd.read_csv(fpath, dtype=object, encoding=\"shift-jis\"))\n",
        "    if not 'lp' in twitter.columns:\n",
        "        twitter['lp'] = np.nan\n",
        "    if 'ALL' in fpath.name:\n",
        "        twitter.loc[twitter['lp'].isnull(), 'lp'] = 'ALL'\n",
        "        #twitter['lp'] = 'ALL'\n",
        "    else:twitter.loc[twitter['lp'].isnull(), 'lp'] = 'kodomo'\n",
        "print(twitter.columns)"
      ],
      "execution_count": null,
      "outputs": [
        {
          "output_type": "stream",
          "text": [
            "/content/drive/MyDrive/データ置き場/こくみん共済POC/朝広実施デジタル/こどもTwitter日別レポート_こくみん共済 coop10-1月_poc.csv\n",
            "/content/drive/MyDrive/データ置き場/こくみん共済POC/朝広実施デジタル/ALL Twitter日別レポート_こくみん共済 coop10-1月_poc.csv\n",
            "Index(['date', 'media', 'agency', 'imp', 'click', 'cost', 'CV_資料請求',\n",
            "       'CV_お見積もり', 'lp'],\n",
            "      dtype='object')\n"
          ],
          "name": "stdout"
        }
      ]
    },
    {
      "cell_type": "code",
      "metadata": {
        "colab": {
          "base_uri": "https://localhost:8080/"
        },
        "id": "KftPKx4irGNV",
        "outputId": "d6d3e66e-ae86-4b0a-f299-7a8351cfd6a4"
      },
      "source": [
        "twitter['imp'] = twitter['imp'].str.replace(',','')\n",
        "twitter = twitter.rename(columns={'CV_お見積もり': 'cv'})\n",
        "twitter = twitter.astype({'imp': 'int64', 'click': 'int', 'cost': 'float', 'cv': 'int'})\n",
        "twitter = twitter.fillna(0)\n",
        "twitter['media_name'] = twitter['media']\n",
        "twitter['media_type'] = 'SNS'\n",
        "print(twitter[(twitter['lp']=='ALL') & (twitter['cv'] > 0)].head())"
      ],
      "execution_count": null,
      "outputs": [
        {
          "output_type": "stream",
          "text": [
            "          date    media agency    imp  ...  cv   lp media_name  media_type\n",
            "41  2020/11/11  Twitter  ASAKO  42559  ...   1  ALL    Twitter         SNS\n",
            "\n",
            "[1 rows x 11 columns]\n"
          ],
          "name": "stdout"
        }
      ]
    },
    {
      "cell_type": "code",
      "metadata": {
        "id": "8_1uNCQTto7M"
      },
      "source": [
        "#\"date\",\"agency\",\"media_name\",\"media_type\",\"lp\",\"imp\",\"click\",\"conversions_shiryouseikyu\",\"conversion_webentry\"\n",
        "twitter[[\"date\",\"agency\",\"media_name\",\"media_type\",\"lp\",\"imp\",\"click\", \"cost\", \"cv\"]].to_csv('/content/drive/MyDrive/データ置き場/こくみん共済POC/asako_twitter.csv', index=False, encoding='utf-8', quoting=2)"
      ],
      "execution_count": null,
      "outputs": []
    },
    {
      "cell_type": "markdown",
      "metadata": {
        "id": "Zrt9pCSOBm3t"
      },
      "source": [
        "Tver"
      ]
    },
    {
      "cell_type": "code",
      "metadata": {
        "colab": {
          "base_uri": "https://localhost:8080/"
        },
        "id": "fBVyd23vuhkM",
        "outputId": "d332a9f0-74e4-42a7-ff10-9007b5579307"
      },
      "source": [
        "TVer = pd.DataFrame()\n",
        "p = Path('/content/drive/MyDrive/データ置き場/こくみん共済POC/朝広実施デジタル/')\n",
        "for fpath in p.glob('*rawdata*.csv'):\n",
        "    print(fpath)\n",
        "    TVer = TVer.append(pd.read_csv(fpath, dtype=object, encoding=\"shift-jis\"))\n",
        "    if not 'lp' in TVer.columns:\n",
        "        TVer['lp'] = np.nan\n",
        "    if 'ALL' in fpath.name:\n",
        "        TVer.loc[TVer['lp'].isnull(), 'lp'] = 'ALL'\n",
        "        #twitter['lp'] = 'ALL'\n",
        "    else:TVer.loc[TVer['lp'].isnull(), 'lp'] = 'kodomo'\n",
        "print(TVer.columns)"
      ],
      "execution_count": null,
      "outputs": [
        {
          "output_type": "stream",
          "text": [
            "/content/drive/MyDrive/データ置き場/こくみん共済POC/朝広実施デジタル/こども【rawdata】こくみん共済COOP：11月キャンペーン_poc.csv\n",
            "/content/drive/MyDrive/データ置き場/こくみん共済POC/朝広実施デジタル/ALL【rawdata】こくみん共済COOP：11月キャンペーン_poc.csv\n",
            "/content/drive/MyDrive/データ置き場/こくみん共済POC/朝広実施デジタル/ALL【rawdata】こくみん共済COOP：10月キャンペーン_poc.csv\n",
            "/content/drive/MyDrive/データ置き場/こくみん共済POC/朝広実施デジタル/こども【rawdata】こくみん共済COOP：10月キャンペーン_poc.csv\n",
            "Index(['date', 'media', 'agency', 'imp', 'click', 'cost', 'CV_資料請求',\n",
            "       'CV_お見積もり', 'lp'],\n",
            "      dtype='object')\n"
          ],
          "name": "stdout"
        }
      ]
    },
    {
      "cell_type": "code",
      "metadata": {
        "colab": {
          "base_uri": "https://localhost:8080/"
        },
        "id": "98df0N0nB2NB",
        "outputId": "024445c1-f24f-4675-e2b2-9a2c46e35c99"
      },
      "source": [
        "TVer['imp'] = TVer['imp'].str.replace(',','')\n",
        "TVer = TVer.rename(columns={'CV_お見積もり': 'cv'})\n",
        "TVer = TVer.astype({'imp': 'int', 'click': 'int', 'cost': 'float'})\n",
        "TVer = TVer.fillna(0)\n",
        "TVer['media_name'] = 'Tver'\n",
        "TVer['media_type'] = 'movie'\n",
        "print(TVer.head())"
      ],
      "execution_count": null,
      "outputs": [
        {
          "output_type": "stream",
          "text": [
            "        date media agency   imp  click         cost CV_資料請求 cv      lp  \\\n",
            "0  2020/11/1  TVer  ASAKO  1710      0  19055.63660       0  0  kodomo   \n",
            "1  2020/11/2  TVer  ASAKO  1518      0  16896.48525       0  0  kodomo   \n",
            "2  2020/11/3  TVer  ASAKO  1520      0  16955.96607       0  0  kodomo   \n",
            "3  2020/11/4  TVer  ASAKO  1510      0  16821.73524       0  0  kodomo   \n",
            "4  2020/11/5  TVer  ASAKO  1459      0  16250.83753       0  0  kodomo   \n",
            "\n",
            "  media_name media_type  \n",
            "0       Tver      movie  \n",
            "1       Tver      movie  \n",
            "2       Tver      movie  \n",
            "3       Tver      movie  \n",
            "4       Tver      movie  \n"
          ],
          "name": "stdout"
        }
      ]
    },
    {
      "cell_type": "code",
      "metadata": {
        "id": "S-9a7xK9CTJQ"
      },
      "source": [
        "TVer[[\"date\",\"agency\",\"media_name\",\"media_type\",\"lp\",\"imp\",\"click\", \"cost\", \"cv\"]].to_csv('/content/drive/MyDrive/データ置き場/こくみん共済POC/TVer_asako.csv', index=False, encoding='utf-8', quoting=2)"
      ],
      "execution_count": null,
      "outputs": []
    },
    {
      "cell_type": "markdown",
      "metadata": {
        "id": "A2cWCG1tHa--"
      },
      "source": [
        "#博報堂Tver"
      ]
    },
    {
      "cell_type": "code",
      "metadata": {
        "colab": {
          "base_uri": "https://localhost:8080/"
        },
        "id": "bH8kRZ2WCjpA",
        "outputId": "59df57f2-1db0-41dc-ae59-4715a0b90877"
      },
      "source": [
        "hakuhodoTVer = pd.DataFrame()\n",
        "p = Path('/content/drive/MyDrive/データ置き場/こくみん共済POC/博報堂実施TVer/')\n",
        "for fpath in p.glob('*.csv'):\n",
        "    print(fpath)\n",
        "    hakuhodoTVer = hakuhodoTVer.append(pd.read_csv(fpath, dtype=object, encoding=\"shift-jis\"))\n",
        "    if not 'lp' in hakuhodoTVer.columns:\n",
        "        hakuhodoTVer['lp'] = np.nan\n",
        "    '''\n",
        "    if 'ALL' in fpath.name:\n",
        "        hakuhodoTVer.loc[hakuhodoTVer['lp'].isnull(), 'lp'] = 'ALL'\n",
        "        #twitter['lp'] = 'ALL'\n",
        "    else:hakuhodoTVer.loc[TVer['lp'].isnull(), 'lp'] = 'kodomo'\n",
        "    '''\n",
        "hakuhodoTVer['lp'] = np.nan\n",
        "hakuhodoTVer.loc[hakuhodoTVer['lp'].isnull(), 'lp'] = 'ALL'    \n",
        "print(hakuhodoTVer.columns)"
      ],
      "execution_count": null,
      "outputs": [
        {
          "output_type": "stream",
          "text": [
            "/content/drive/MyDrive/データ置き場/こくみん共済POC/博報堂実施TVer/210205更新_TVer日別出稿実績_poc.csv\n",
            "Index(['date', 'media', 'agency', 'imp', 'click', 'cost', 'CV_資料請求',\n",
            "       'CV_お見積もり', 'lp'],\n",
            "      dtype='object')\n"
          ],
          "name": "stdout"
        }
      ]
    },
    {
      "cell_type": "code",
      "metadata": {
        "colab": {
          "base_uri": "https://localhost:8080/"
        },
        "id": "OjBWfOVUJ4b7",
        "outputId": "b4e369df-e1dd-4a23-b337-0029d9717e18"
      },
      "source": [
        "hakuhodoTVer['imp'] = hakuhodoTVer['imp'].str.replace(',','')\n",
        "hakuhodoTVer = hakuhodoTVer.rename(columns={'CV_お見積もり': 'cv'})\n",
        "hakuhodoTVer = hakuhodoTVer.astype({'imp': 'int', 'click': 'int', 'cost': 'float'})\n",
        "hakuhodoTVer = hakuhodoTVer.fillna(0)\n",
        "hakuhodoTVer['media_name'] = 'Tver'\n",
        "hakuhodoTVer['media_type'] = 'movie'\n",
        "print(hakuhodoTVer.head())"
      ],
      "execution_count": null,
      "outputs": [
        {
          "output_type": "stream",
          "text": [
            "        date media    agency    imp  click         cost CV_資料請求 cv   lp  \\\n",
            "0   2020/1/6  TVer  HAKUHODO  50449      0  218599.0869       0  0  ALL   \n",
            "1   2020/1/7  TVer  HAKUHODO  67607      0  292505.7106       0  0  ALL   \n",
            "2   2020/1/8  TVer  HAKUHODO  61921      0  267264.1815       0  0  ALL   \n",
            "3   2020/1/9  TVer  HAKUHODO  68222      0  297778.9372       0  0  ALL   \n",
            "4  2020/1/10  TVer  HAKUHODO  68316      0  296543.5033       0  0  ALL   \n",
            "\n",
            "  media_name media_type  \n",
            "0       Tver      movie  \n",
            "1       Tver      movie  \n",
            "2       Tver      movie  \n",
            "3       Tver      movie  \n",
            "4       Tver      movie  \n"
          ],
          "name": "stdout"
        }
      ]
    },
    {
      "cell_type": "code",
      "metadata": {
        "id": "oohNN-QnPFlh"
      },
      "source": [
        "hakuhodoTVer[[\"date\",\"agency\",\"media_name\",\"media_type\",\"lp\",\"imp\",\"click\", \"cost\", \"cv\"]].to_csv('/content/drive/MyDrive/データ置き場/こくみん共済POC/TVer_hakuhodo.csv', index=False, encoding='utf-8', quoting=2)"
      ],
      "execution_count": null,
      "outputs": []
    },
    {
      "cell_type": "markdown",
      "metadata": {
        "id": "CvKTWw8YQZGH"
      },
      "source": [
        "#Display"
      ]
    },
    {
      "cell_type": "code",
      "metadata": {
        "id": "buTtGCPCPl1j",
        "colab": {
          "base_uri": "https://localhost:8080/"
        },
        "outputId": "2af8134f-5a55-4bf0-f6c6-1a192cb50523"
      },
      "source": [
        "import pandas as pd\n",
        "import numpy as np\n",
        "from pathlib import Path\n",
        "pd.set_option('display.max_columns', 50)\n",
        "daiko_display = pd.DataFrame()\n",
        "p = Path('/content/drive/MyDrive/データ置き場/こくみん共済POC/display/')\n",
        "for fpath in p.glob('*.csv'):\n",
        "    print(fpath)\n",
        "    daiko_display = daiko_display.append(pd.read_csv(fpath, dtype=object, encoding=\"shift-jis\"))\n",
        "    if not 'lp' in daiko_display.columns:\n",
        "        daiko_display['lp'] = np.nan\n",
        "    '''\n",
        "    if 'ALL' in fpath.name:\n",
        "        hakuhodoTVer.loc[hakuhodoTVer['lp'].isnull(), 'lp'] = 'ALL'\n",
        "        #twitter['lp'] = 'ALL'\n",
        "    else:hakuhodoTVer.loc[TVer['lp'].isnull(), 'lp'] = 'kodomo'\n",
        "    '''\n",
        "daiko_display['lp'] = np.nan\n",
        "daiko_display.loc[daiko_display['lp'].isnull(), 'lp'] = 'ALL'    \n",
        "print(daiko_display.columns)\n",
        "print(daiko_display.head())"
      ],
      "execution_count": null,
      "outputs": [
        {
          "output_type": "stream",
          "text": [
            "/content/drive/MyDrive/データ置き場/こくみん共済POC/display/ご掲載レポート_20200101-0131（こくみん～マイカー）_poc.csv\n",
            "/content/drive/MyDrive/データ置き場/こくみん共済POC/display/ご掲載レポート_20200201-0229（こくみん～マイカー）_poc.csv\n",
            "/content/drive/MyDrive/データ置き場/こくみん共済POC/display/ご掲載レポート_20200301-0331（こくみん～マイカー）_poc.csv\n",
            "/content/drive/MyDrive/データ置き場/こくみん共済POC/display/ご掲載レポート_20200401-0412（こくみん～マイカー）_poc.csv\n",
            "/content/drive/MyDrive/データ置き場/こくみん共済POC/display/ご掲載レポート_20200713-0731（こくみん～マイカー）_poc.csv\n",
            "/content/drive/MyDrive/データ置き場/こくみん共済POC/display/ご掲載レポート_20200801-0831（こくみん～マイカー）_poc.csv\n",
            "/content/drive/MyDrive/データ置き場/こくみん共済POC/display/ご掲載レポート_20200901-0930（こくみん～マイカー）_poc.csv\n",
            "/content/drive/MyDrive/データ置き場/こくみん共済POC/display/ご掲載レポート_20201001-1031（こくみん～マイカー）v2_poc_sjis.csv\n",
            "/content/drive/MyDrive/データ置き場/こくみん共済POC/display/ご掲載レポート_20201101-1130（こくみん～マイカー)_poc_sjis.csv\n",
            "/content/drive/MyDrive/データ置き場/こくみん共済POC/display/ご掲載レポート_20201201-1231（こくみん～マイカー)_poc_sjis.csv\n",
            "Index(['date', 'Display', 'agency', 'imp', 'クリック', '金額（税別）', 'CV_資料請求',\n",
            "       'CV_お見積もり', 'CV_コールタップ', 'CV_総計(CTなし)', 'CV_総計(CTあり)', 'lp'],\n",
            "      dtype='object')\n",
            "       date  Display agency     imp  クリック       金額（税別） CV_資料請求 CV_お見積もり  \\\n",
            "0  2020/1/1  display  DAIKO  811825  2617  217937.7514      32        3   \n",
            "1  2020/1/2  display  DAIKO  831554  2520  226544.7429      29        3   \n",
            "2  2020/1/3  display  DAIKO  782540  2496  226756.2743      34        2   \n",
            "3  2020/1/4  display  DAIKO  772159  2524  238493.0471      36        2   \n",
            "4  2020/1/5  display  DAIKO  841338  2056    193659.81      29        7   \n",
            "\n",
            "  CV_コールタップ CV_総計(CTなし) CV_総計(CTあり)   lp  \n",
            "0         4          38          42  ALL  \n",
            "1         7          38          45  ALL  \n",
            "2        16          40          56  ALL  \n",
            "3         6          41          47  ALL  \n",
            "4        10          44          54  ALL  \n"
          ],
          "name": "stdout"
        }
      ]
    },
    {
      "cell_type": "code",
      "metadata": {
        "colab": {
          "base_uri": "https://localhost:8080/"
        },
        "id": "qz6DszkpWbAP",
        "outputId": "0e617c86-70d5-41f5-86c3-2cd1395db187"
      },
      "source": [
        "#\"date\",\"agency\",\"media_name\",\"media_type\",\"lp\",\"imp\",\"click\",\"conversions_shiryouseikyu\",\"conversion_webentry\"\n",
        "#daiko_display['imp'] = hakuhodoTVer['imp'].str.replace(',','')\n",
        "daiko_display = daiko_display.rename(columns={'CV_お見積もり': 'cv'})\n",
        "daiko_display = daiko_display.rename(columns={'クリック': 'click'})\n",
        "daiko_display = daiko_display.rename(columns={'金額（税別）': 'cost'})\n",
        "daiko_display = daiko_display.astype({'imp': 'int', 'click': 'int', 'cost': 'float'})\n",
        "daiko_display = daiko_display.fillna(0)\n",
        "daiko_display['media_name'] = 'mixed'\n",
        "daiko_display['media_type'] = 'display_sns'\n",
        "print(daiko_display.head())"
      ],
      "execution_count": null,
      "outputs": [
        {
          "output_type": "stream",
          "text": [
            "       date  Display agency     imp  click         cost CV_資料請求 cv CV_コールタップ  \\\n",
            "0  2020/1/1  display  DAIKO  811825   2617  217937.7514      32  3         4   \n",
            "1  2020/1/2  display  DAIKO  831554   2520  226544.7429      29  3         7   \n",
            "2  2020/1/3  display  DAIKO  782540   2496  226756.2743      34  2        16   \n",
            "3  2020/1/4  display  DAIKO  772159   2524  238493.0471      36  2         6   \n",
            "4  2020/1/5  display  DAIKO  841338   2056  193659.8100      29  7        10   \n",
            "\n",
            "  CV_総計(CTなし) CV_総計(CTあり)   lp media_name   media_type  \n",
            "0          38          42  ALL      mixed  display_sns  \n",
            "1          38          45  ALL      mixed  display_sns  \n",
            "2          40          56  ALL      mixed  display_sns  \n",
            "3          41          47  ALL      mixed  display_sns  \n",
            "4          44          54  ALL      mixed  display_sns  \n"
          ],
          "name": "stdout"
        }
      ]
    },
    {
      "cell_type": "code",
      "metadata": {
        "id": "DDElF9Q2amHN"
      },
      "source": [
        "daiko_display[[\"date\",\"agency\",\"media_name\",\"media_type\",\"lp\",\"imp\",\"click\", \"cost\", \"cv\"]].to_csv('/content/drive/MyDrive/データ置き場/こくみん共済POC/daiko_display.csv', index=False, encoding='utf-8', quoting=2)"
      ],
      "execution_count": null,
      "outputs": []
    },
    {
      "cell_type": "markdown",
      "metadata": {
        "id": "Iy9zIF2IxehK"
      },
      "source": [
        "#TV"
      ]
    },
    {
      "cell_type": "code",
      "metadata": {
        "id": "dFUURJlCa1uM",
        "colab": {
          "base_uri": "https://localhost:8080/"
        },
        "outputId": "ecb5064b-2222-4e99-e3ce-1fd35f1344e1"
      },
      "source": [
        "import pandas as pd\n",
        "import numpy as np\n",
        "from pathlib import Path\n",
        "pd.set_option('display.max_columns', 50)\n",
        "tv = pd.DataFrame()\n",
        "p = Path('/content/drive/MyDrive/データ置き場/こくみん共済POC/TV/')\n",
        "for fpath in p.glob('*.csv'):\n",
        "    print(fpath)\n",
        "    tv = tv.append(pd.read_csv(fpath, dtype=object, encoding=\"utf-8\"))\n",
        "    if not 'lp' in tv.columns:\n",
        "        tv['lp'] = np.nan\n",
        "    '''\n",
        "    if 'ALL' in fpath.name:\n",
        "        hakuhodoTVer.loc[hakuhodoTVer['lp'].isnull(), 'lp'] = 'ALL'\n",
        "        #twitter['lp'] = 'ALL'\n",
        "    else:hakuhodoTVer.loc[TVer['lp'].isnull(), 'lp'] = 'kodomo'\n",
        "    '''\n",
        "tv['lp'] = np.nan\n",
        "tv.loc[tv['lp'].isnull(), 'lp'] = 'ALL'    \n",
        "tvcolumns = tv.columns\n",
        "#print(tvcolumns[0])\n",
        "tv.rename(columns={tv.columns[0]:'date'}, inplace=True)\n",
        "print(tv.head())"
      ],
      "execution_count": null,
      "outputs": [
        {
          "output_type": "stream",
          "text": [
            "/content/drive/MyDrive/データ置き場/こくみん共済POC/TV/202001_TVCM_3tikudate.csv\n",
            "/content/drive/MyDrive/データ置き場/こくみん共済POC/TV/202002_TVCM_3tikudate.csv\n",
            "/content/drive/MyDrive/データ置き場/こくみん共済POC/TV/202003_TVCM_3tikudate.csv\n",
            "/content/drive/MyDrive/データ置き場/こくみん共済POC/TV/202007_TVCM_3tikudate.csv\n",
            "/content/drive/MyDrive/データ置き場/こくみん共済POC/TV/202008_TVCM_3tikudate.csv\n",
            "/content/drive/MyDrive/データ置き場/こくみん共済POC/TV/202010_TVCM_3tikudate.csv\n",
            "/content/drive/MyDrive/データ置き場/こくみん共済POC/TV/202011_TVCM_3tikudate.csv\n",
            "       date kanto_cost kanto_GRP  kansai_cost kansai_GRP  chukyo_cost  \\\n",
            "0  2020/1/1          0         0            0          0            0   \n",
            "1  2020/1/2          0         0            0          0            0   \n",
            "2  2020/1/3          0         0            0          0            0   \n",
            "3  2020/1/4    1279233       5.1            0          0            0   \n",
            "4  2020/1/5  2381706.4       8.2  839091.1477        9.9  440532.0981   \n",
            "\n",
            "  chukyo_GRP   lp  \n",
            "0          0  ALL  \n",
            "1          0  ALL  \n",
            "2          0  ALL  \n",
            "3          0  ALL  \n",
            "4        9.3  ALL  \n"
          ],
          "name": "stdout"
        }
      ]
    },
    {
      "cell_type": "code",
      "metadata": {
        "colab": {
          "base_uri": "https://localhost:8080/"
        },
        "id": "pqCsKAlPxuPn",
        "outputId": "f698b966-43f4-4bff-ab66-57d58c862f6a"
      },
      "source": [
        "#\"date\",\"agency\",\"media_name\",\"media_type\",\"lp\",\"imp\",\"click\",\"conversions_shiryouseikyu\",\"conversion_webentry\"\n",
        "population_kanto = 40941\n",
        "population_kansai = 15696\n",
        "population_chukyo = 9277\n",
        "tv = tv.astype({'kanto_cost': 'float', 'kanto_GRP': 'float', 'kansai_GRP': 'float', 'kansai_cost': 'float', 'chukyo_GRP': 'float', 'chukyo_cost': 'float'})\n",
        "tv['agency'] = 'ASAKO'\n",
        "tv['media_name'] = 'TV'\n",
        "tv['media_type'] = 'movie'\n",
        "#tv = tv.rename(columns={'Unnamed: 0': 'date'})\n",
        "tv['kanto_reach'] = tv['kanto_GRP'] * population_kanto\n",
        "tv['kansai_reach'] = tv['kansai_GRP'] * population_kansai\n",
        "tv['chukyo_reach'] = tv['chukyo_GRP'] * population_chukyo\n",
        "print(tv.head())"
      ],
      "execution_count": null,
      "outputs": [
        {
          "output_type": "stream",
          "text": [
            "       date  kanto_cost  kanto_GRP  kansai_cost  kansai_GRP  chukyo_cost  \\\n",
            "0  2020/1/1         0.0        0.0       0.0000         0.0       0.0000   \n",
            "1  2020/1/2         0.0        0.0       0.0000         0.0       0.0000   \n",
            "2  2020/1/3         0.0        0.0       0.0000         0.0       0.0000   \n",
            "3  2020/1/4   1279233.0        5.1       0.0000         0.0       0.0000   \n",
            "4  2020/1/5   2381706.4        8.2  839091.1477         9.9  440532.0981   \n",
            "\n",
            "   chukyo_GRP   lp agency media_name media_type  kanto_reach  kansai_reach  \\\n",
            "0         0.0  ALL  ASAKO         TV      movie          0.0           0.0   \n",
            "1         0.0  ALL  ASAKO         TV      movie          0.0           0.0   \n",
            "2         0.0  ALL  ASAKO         TV      movie          0.0           0.0   \n",
            "3         0.0  ALL  ASAKO         TV      movie     208799.1           0.0   \n",
            "4         9.3  ALL  ASAKO         TV      movie     335716.2      155390.4   \n",
            "\n",
            "   chukyo_reach  \n",
            "0           0.0  \n",
            "1           0.0  \n",
            "2           0.0  \n",
            "3           0.0  \n",
            "4       86276.1  \n"
          ],
          "name": "stdout"
        }
      ]
    },
    {
      "cell_type": "code",
      "metadata": {
        "colab": {
          "base_uri": "https://localhost:8080/"
        },
        "id": "fPK6m47mzaVg",
        "outputId": "dfb46b0a-e9e9-4f62-b718-3429c2e47f4a"
      },
      "source": [
        "#関東・関西・中京を縦に結合\n",
        "tv_kanto = tv[['date', 'agency', 'media_name', 'media_type', 'lp', 'kanto_GRP', 'kanto_cost', 'kanto_reach' ]].copy()\n",
        "tv_kanto['area'] = 'kanto'\n",
        "tv_kanto = tv_kanto.rename(columns={'kanto_GRP':'GRP', 'kanto_cost':'cost', 'kanto_reach':'reach'})\n",
        "print(tv_kanto.head())\n",
        "tv_kansai = tv[['date', 'agency', 'media_name', 'media_type', 'lp', 'kansai_GRP', 'kansai_cost', 'kansai_reach' ]].copy()\n",
        "tv_kansai['area'] = 'kansai'\n",
        "tv_kansai = tv_kansai.rename(columns={'kansai_GRP': 'GRP', 'kansai_cost': 'cost', 'kansai_reach':'reach'})\n",
        "print(tv_kansai.head())\n",
        "tv_chukyo = tv[['date', 'agency', 'media_name', 'media_type', 'lp', 'chukyo_GRP', 'chukyo_cost', 'chukyo_reach' ]].copy()\n",
        "tv_chukyo['area'] = 'chukyo'\n",
        "tv_chukyo = tv_chukyo.rename(columns={'chukyo_GRP': 'GRP', 'chukyo_cost': 'cost', 'chukyo_reach':'reach'})\n",
        "print(tv_chukyo.head())"
      ],
      "execution_count": null,
      "outputs": [
        {
          "output_type": "stream",
          "text": [
            "       date agency media_name media_type   lp  GRP       cost     reach   area\n",
            "0  2020/1/1  ASAKO         TV      movie  ALL  0.0        0.0       0.0  kanto\n",
            "1  2020/1/2  ASAKO         TV      movie  ALL  0.0        0.0       0.0  kanto\n",
            "2  2020/1/3  ASAKO         TV      movie  ALL  0.0        0.0       0.0  kanto\n",
            "3  2020/1/4  ASAKO         TV      movie  ALL  5.1  1279233.0  208799.1  kanto\n",
            "4  2020/1/5  ASAKO         TV      movie  ALL  8.2  2381706.4  335716.2  kanto\n",
            "       date agency media_name media_type   lp  GRP         cost     reach  \\\n",
            "0  2020/1/1  ASAKO         TV      movie  ALL  0.0       0.0000       0.0   \n",
            "1  2020/1/2  ASAKO         TV      movie  ALL  0.0       0.0000       0.0   \n",
            "2  2020/1/3  ASAKO         TV      movie  ALL  0.0       0.0000       0.0   \n",
            "3  2020/1/4  ASAKO         TV      movie  ALL  0.0       0.0000       0.0   \n",
            "4  2020/1/5  ASAKO         TV      movie  ALL  9.9  839091.1477  155390.4   \n",
            "\n",
            "     area  \n",
            "0  kansai  \n",
            "1  kansai  \n",
            "2  kansai  \n",
            "3  kansai  \n",
            "4  kansai  \n",
            "       date agency media_name media_type   lp  GRP         cost    reach  \\\n",
            "0  2020/1/1  ASAKO         TV      movie  ALL  0.0       0.0000      0.0   \n",
            "1  2020/1/2  ASAKO         TV      movie  ALL  0.0       0.0000      0.0   \n",
            "2  2020/1/3  ASAKO         TV      movie  ALL  0.0       0.0000      0.0   \n",
            "3  2020/1/4  ASAKO         TV      movie  ALL  0.0       0.0000      0.0   \n",
            "4  2020/1/5  ASAKO         TV      movie  ALL  9.3  440532.0981  86276.1   \n",
            "\n",
            "     area  \n",
            "0  chukyo  \n",
            "1  chukyo  \n",
            "2  chukyo  \n",
            "3  chukyo  \n",
            "4  chukyo  \n"
          ],
          "name": "stdout"
        }
      ]
    },
    {
      "cell_type": "code",
      "metadata": {
        "id": "4yV5jBk41qo2"
      },
      "source": [
        "pd.concat([tv_kanto, tv_kansai, tv_chukyo]).to_csv('/content/drive/MyDrive/データ置き場/こくみん共済POC/tv.csv', index=False, encoding='utf-8', quoting=2)"
      ],
      "execution_count": null,
      "outputs": []
    },
    {
      "cell_type": "markdown",
      "metadata": {
        "id": "SHGvuXE_hJj-"
      },
      "source": [
        "#displayの詳細"
      ]
    },
    {
      "cell_type": "code",
      "metadata": {
        "id": "upLaejSN2Jj5",
        "colab": {
          "base_uri": "https://localhost:8080/"
        },
        "outputId": "58607d3a-e825-4a71-eea7-e5944c5a6e5e"
      },
      "source": [
        "import pandas as pd\n",
        "import numpy as np\n",
        "from pathlib import Path\n",
        "pd.set_option('display.max_columns', 50)\n",
        "display_detail = pd.DataFrame()\n",
        "p = Path('/content/drive/MyDrive/データ置き場/こくみん共済POC/display/monthly_detail')\n",
        "for fpath in p.glob('*.csv'):\n",
        "    print(fpath)\n",
        "    display_detail = display_detail.append(pd.read_csv(fpath, dtype=object, encoding=\"shift-jis\"))\n",
        "    '''    \n",
        "    if not 'lp' in display_detail.columns:\n",
        "        display_detail['lp'] = np.nan\n",
        "\n",
        "    if 'ALL' in fpath.name:\n",
        "        hakuhodoTVer.loc[hakuhodoTVer['lp'].isnull(), 'lp'] = 'ALL'\n",
        "        #twitter['lp'] = 'ALL'\n",
        "    else:hakuhodoTVer.loc[TVer['lp'].isnull(), 'lp'] = 'kodomo'\n",
        "    '''\n",
        "display_detail['lp'] = np.nan\n",
        "display_detail.loc[display_detail['lp'].isnull(), 'lp'] = 'ALL'    \n",
        "print(display_detail.columns)\n",
        "print(display_detail.head())"
      ],
      "execution_count": null,
      "outputs": [
        {
          "output_type": "stream",
          "text": [
            "/content/drive/MyDrive/データ置き場/こくみん共済POC/display/monthly_detail/ご掲載レポート_20200101-0131（こくみん～マイカー）_poc.csv\n",
            "/content/drive/MyDrive/データ置き場/こくみん共済POC/display/monthly_detail/ご掲載レポート_20200201-0229（こくみん～マイカー）_poc.csv\n",
            "/content/drive/MyDrive/データ置き場/こくみん共済POC/display/monthly_detail/ご掲載レポート_20200301-0331（こくみん～マイカー）_poc.csv\n",
            "/content/drive/MyDrive/データ置き場/こくみん共済POC/display/monthly_detail/ご掲載レポート_20200401-0412（こくみん～マイカー）_poc.csv\n",
            "/content/drive/MyDrive/データ置き場/こくみん共済POC/display/monthly_detail/ご掲載レポート_20200713-0731（こくみん～マイカー）_poc.csv\n",
            "/content/drive/MyDrive/データ置き場/こくみん共済POC/display/monthly_detail/ご掲載レポート_20200801-0831（こくみん～マイカー）_poc.csv\n",
            "/content/drive/MyDrive/データ置き場/こくみん共済POC/display/monthly_detail/ご掲載レポート_20200901-0930（こくみん～マイカー）_poc.csv\n",
            "/content/drive/MyDrive/データ置き場/こくみん共済POC/display/monthly_detail/ご掲載レポート_20201001-1031（こくみん～マイカー）v2_poc.csv\n",
            "/content/drive/MyDrive/データ置き場/こくみん共済POC/display/monthly_detail/ご掲載レポート_20201101-1130（こくみん～マイカー)_poc.csv\n",
            "/content/drive/MyDrive/データ置き場/こくみん共済POC/display/monthly_detail/ご掲載レポート_20201201-1231（こくみん～マイカー)_poc.csv\n",
            "Index(['date', 'media', 'agency', 'lp', 'imp', 'click', 'cost', 'cv'], dtype='object')\n",
            "  date      media agency   lp         imp   click        cost   cv\n",
            "0    1        GDN  DAIKO  ALL   2,756,785  26,789  \\2,541,724  440\n",
            "1    1        YDN  DAIKO  ALL  18,020,845  26,849  \\2,322,824  477\n",
            "2    1       LINE  DAIKO  ALL   1,089,452   9,896    \\614,803  185\n",
            "3    1   Facebook  DAIKO  ALL     352,302   5,829  \\1,665,224  299\n",
            "4    1  Instagram  DAIKO  ALL     187,453   1,788    \\746,377  130\n"
          ],
          "name": "stdout"
        }
      ]
    },
    {
      "cell_type": "code",
      "metadata": {
        "colab": {
          "base_uri": "https://localhost:8080/"
        },
        "id": "Uqnmw_BrnTrA",
        "outputId": "b2f00e9c-8e57-40dd-e15e-779c1feea359"
      },
      "source": [
        "display_detail['imp'] = display_detail['imp'].str.replace(',','')\n",
        "display_detail['click'] = display_detail['click'].str.replace(',','')\n",
        "display_detail['cost'] = display_detail['cost'].str.replace(',','')\n",
        "display_detail['cost'] = display_detail['cost'].str.replace('\\\\','')\n",
        "display_detail = display_detail.astype({'imp': 'int', 'click': 'int', 'cost': 'float', 'click': 'int'})\n",
        "display_detail['media_name'] = display_detail['media']\n",
        "display_detail.loc[(display_detail['media'] == 'GDN') | (display_detail['media'] == 'YDN'), 'media_type'] = 'display'\n",
        "display_detail.loc[(display_detail['media'].isin(['LINE', 'Facebook', 'Instagram', 'SmartNews'])), 'media_type'] = 'SNS'\n",
        "display_detail.loc[(display_detail['date'] == '1'), 'date'] = '2020-01-01'\n",
        "display_detail.loc[(display_detail['date'] == '2'), 'date'] = '2020-02-01'\n",
        "display_detail.loc[(display_detail['date'] == '3'), 'date'] = '2020-03-01'\n",
        "display_detail.loc[(display_detail['date'] == '4'), 'date'] = '2020-04-01'\n",
        "display_detail.loc[(display_detail['date'] == '5'), 'date'] = '2020-05-01'\n",
        "display_detail.loc[(display_detail['date'] == '6'), 'date'] = '2020-06-01'\n",
        "display_detail.loc[(display_detail['date'] == '7'), 'date'] = '2020-07-01'\n",
        "display_detail.loc[(display_detail['date'] == '8'), 'date'] = '2020-08-01'\n",
        "display_detail.loc[(display_detail['date'] == '9'), 'date'] = '2020-09-01'\n",
        "display_detail.loc[(display_detail['date'] == '10'), 'date'] = '2020-10-01'\n",
        "display_detail.loc[(display_detail['date'] == '11'), 'date'] = '2020-11-01'\n",
        "display_detail.loc[(display_detail['date'] == '12'), 'date'] = '2020-12-01'\n",
        "print(display_detail.head())"
      ],
      "execution_count": null,
      "outputs": [
        {
          "output_type": "stream",
          "text": [
            "         date      media agency   lp       imp  click       cost   cv  \\\n",
            "0  2020-01-01        GDN  DAIKO  ALL   2756785  26789  2541724.0  440   \n",
            "1  2020-01-01        YDN  DAIKO  ALL  18020845  26849  2322824.0  477   \n",
            "2  2020-01-01       LINE  DAIKO  ALL   1089452   9896   614803.0  185   \n",
            "3  2020-01-01   Facebook  DAIKO  ALL    352302   5829  1665224.0  299   \n",
            "4  2020-01-01  Instagram  DAIKO  ALL    187453   1788   746377.0  130   \n",
            "\n",
            "  media_name media_type  \n",
            "0        GDN    display  \n",
            "1        YDN    display  \n",
            "2       LINE        SNS  \n",
            "3   Facebook        SNS  \n",
            "4  Instagram        SNS  \n"
          ],
          "name": "stdout"
        }
      ]
    },
    {
      "cell_type": "code",
      "metadata": {
        "id": "huqxBTVPp06B"
      },
      "source": [
        "display_detail[[\"date\",\"agency\",\"media_name\",\"media_type\",\"lp\",\"imp\",\"click\", \"cost\", \"cv\"]].to_csv('/content/drive/MyDrive/データ置き場/こくみん共済POC/daiko_display_mediadetail_monthly.csv', index=False, encoding='utf-8', quoting=2)"
      ],
      "execution_count": null,
      "outputs": []
    },
    {
      "cell_type": "code",
      "metadata": {
        "colab": {
          "base_uri": "https://localhost:8080/",
          "height": 204
        },
        "id": "o1WafjN3t2us",
        "outputId": "80bc68fb-118c-4646-9c4b-acc6f04475c4"
      },
      "source": [
        "asako_google = pd.read_csv('/content/drive/MyDrive/データ置き場/こくみん共済POC/asako_google.csv', dtype=object)\n",
        "asako_google = asako_google.astype({'imp': 'float', 'click': 'float', 'cost': 'float', 'view_start': 'float', 'view_100_per': 'float', 'view_100_count': 'float'})\n",
        "asako_google['media_name'] = 'youtube'\n",
        "asako_google.loc[asako_google['lp'] == 'undefined', 'lp'] = 'kodomo'\n",
        "asako_google.head()"
      ],
      "execution_count": null,
      "outputs": [
        {
          "output_type": "execute_result",
          "data": {
            "text/html": [
              "<div>\n",
              "<style scoped>\n",
              "    .dataframe tbody tr th:only-of-type {\n",
              "        vertical-align: middle;\n",
              "    }\n",
              "\n",
              "    .dataframe tbody tr th {\n",
              "        vertical-align: top;\n",
              "    }\n",
              "\n",
              "    .dataframe thead th {\n",
              "        text-align: right;\n",
              "    }\n",
              "</style>\n",
              "<table border=\"1\" class=\"dataframe\">\n",
              "  <thead>\n",
              "    <tr style=\"text-align: right;\">\n",
              "      <th></th>\n",
              "      <th>date</th>\n",
              "      <th>agency</th>\n",
              "      <th>lp</th>\n",
              "      <th>media_name</th>\n",
              "      <th>media_type</th>\n",
              "      <th>imp</th>\n",
              "      <th>click</th>\n",
              "      <th>view_start</th>\n",
              "      <th>view_100_per</th>\n",
              "      <th>view_100_count</th>\n",
              "      <th>cost</th>\n",
              "    </tr>\n",
              "  </thead>\n",
              "  <tbody>\n",
              "    <tr>\n",
              "      <th>0</th>\n",
              "      <td>2020-09-24</td>\n",
              "      <td>ASAKO</td>\n",
              "      <td>ALL</td>\n",
              "      <td>youtube</td>\n",
              "      <td>movie</td>\n",
              "      <td>595399.0</td>\n",
              "      <td>446.0</td>\n",
              "      <td>254671.0</td>\n",
              "      <td>0.437775</td>\n",
              "      <td>255652.8372</td>\n",
              "      <td>614074.259483</td>\n",
              "    </tr>\n",
              "    <tr>\n",
              "      <th>1</th>\n",
              "      <td>2020-09-27</td>\n",
              "      <td>ASAKO</td>\n",
              "      <td>ALL</td>\n",
              "      <td>youtube</td>\n",
              "      <td>movie</td>\n",
              "      <td>553920.0</td>\n",
              "      <td>451.0</td>\n",
              "      <td>236124.0</td>\n",
              "      <td>0.441500</td>\n",
              "      <td>233759.8913</td>\n",
              "      <td>564708.184474</td>\n",
              "    </tr>\n",
              "    <tr>\n",
              "      <th>2</th>\n",
              "      <td>2020-09-29</td>\n",
              "      <td>ASAKO</td>\n",
              "      <td>ALL</td>\n",
              "      <td>youtube</td>\n",
              "      <td>movie</td>\n",
              "      <td>422150.0</td>\n",
              "      <td>342.0</td>\n",
              "      <td>200360.0</td>\n",
              "      <td>0.475750</td>\n",
              "      <td>200212.9540</td>\n",
              "      <td>579228.024007</td>\n",
              "    </tr>\n",
              "    <tr>\n",
              "      <th>3</th>\n",
              "      <td>2020-09-25</td>\n",
              "      <td>ASAKO</td>\n",
              "      <td>ALL</td>\n",
              "      <td>youtube</td>\n",
              "      <td>movie</td>\n",
              "      <td>448527.0</td>\n",
              "      <td>353.0</td>\n",
              "      <td>214559.0</td>\n",
              "      <td>0.479725</td>\n",
              "      <td>215435.3432</td>\n",
              "      <td>558235.091181</td>\n",
              "    </tr>\n",
              "    <tr>\n",
              "      <th>4</th>\n",
              "      <td>2020-09-23</td>\n",
              "      <td>ASAKO</td>\n",
              "      <td>ALL</td>\n",
              "      <td>youtube</td>\n",
              "      <td>movie</td>\n",
              "      <td>346182.0</td>\n",
              "      <td>230.0</td>\n",
              "      <td>187494.0</td>\n",
              "      <td>0.542275</td>\n",
              "      <td>188554.7321</td>\n",
              "      <td>611183.128541</td>\n",
              "    </tr>\n",
              "  </tbody>\n",
              "</table>\n",
              "</div>"
            ],
            "text/plain": [
              "         date agency   lp media_name media_type       imp  click  view_start  \\\n",
              "0  2020-09-24  ASAKO  ALL    youtube      movie  595399.0  446.0    254671.0   \n",
              "1  2020-09-27  ASAKO  ALL    youtube      movie  553920.0  451.0    236124.0   \n",
              "2  2020-09-29  ASAKO  ALL    youtube      movie  422150.0  342.0    200360.0   \n",
              "3  2020-09-25  ASAKO  ALL    youtube      movie  448527.0  353.0    214559.0   \n",
              "4  2020-09-23  ASAKO  ALL    youtube      movie  346182.0  230.0    187494.0   \n",
              "\n",
              "   view_100_per  view_100_count           cost  \n",
              "0      0.437775     255652.8372  614074.259483  \n",
              "1      0.441500     233759.8913  564708.184474  \n",
              "2      0.475750     200212.9540  579228.024007  \n",
              "3      0.479725     215435.3432  558235.091181  \n",
              "4      0.542275     188554.7321  611183.128541  "
            ]
          },
          "metadata": {
            "tags": []
          },
          "execution_count": 56
        }
      ]
    },
    {
      "cell_type": "code",
      "metadata": {
        "id": "CnbYm7RnvlJw"
      },
      "source": [
        "asako_google.to_csv('/content/drive/MyDrive/データ置き場/こくみん共済POC/asako_google.csv', index=False, encoding='utf-8', quoting=2)"
      ],
      "execution_count": null,
      "outputs": []
    },
    {
      "cell_type": "markdown",
      "metadata": {
        "id": "Zh-ua627w_Kj"
      },
      "source": [
        "#くっつけてみる"
      ]
    },
    {
      "cell_type": "code",
      "metadata": {
        "colab": {
          "base_uri": "https://localhost:8080/"
        },
        "id": "Ab-5dKs6w4iv",
        "outputId": "53f94857-429d-473a-85de-6b996f55df30"
      },
      "source": [
        "summary = pd.DataFrame()\n",
        "p = Path('/content/drive/MyDrive/データ置き場/こくみん共済POC/')\n",
        "for fpath in p.glob('*.csv'):\n",
        "    print(fpath)\n",
        "    summary = summary.append(pd.read_csv(fpath, dtype=object, encoding=\"utf-8\"))"
      ],
      "execution_count": null,
      "outputs": [
        {
          "output_type": "stream",
          "text": [
            "/content/drive/MyDrive/データ置き場/こくみん共済POC/asako_google.csv\n",
            "/content/drive/MyDrive/データ置き場/こくみん共済POC/google_organic.csv\n",
            "/content/drive/MyDrive/データ置き場/こくみん共済POC/twitter_asako.csv\n",
            "/content/drive/MyDrive/データ置き場/こくみん共済POC/TVer_asako.csv\n",
            "/content/drive/MyDrive/データ置き場/こくみん共済POC/TVer_hakuhodo.csv\n",
            "/content/drive/MyDrive/データ置き場/こくみん共済POC/daiko_display_dayly.csv\n",
            "/content/drive/MyDrive/データ置き場/こくみん共済POC/tv.csv\n",
            "/content/drive/MyDrive/データ置き場/こくみん共済POC/google_listing.csv\n",
            "/content/drive/MyDrive/データ置き場/こくみん共済POC/daiko_display_mediadetail_monthly.csv\n"
          ],
          "name": "stdout"
        }
      ]
    },
    {
      "cell_type": "code",
      "metadata": {
        "colab": {
          "base_uri": "https://localhost:8080/"
        },
        "id": "mmCFyJOIxJYw",
        "outputId": "b6829608-b8a5-424f-ae4b-fcaaa781fde9"
      },
      "source": [
        "summary.columns"
      ],
      "execution_count": null,
      "outputs": [
        {
          "output_type": "execute_result",
          "data": {
            "text/plain": [
              "Index(['date', 'agency', 'lp', 'media_name', 'media_type', 'imp', 'click',\n",
              "       'view_start', 'view_100_per', 'view_100_count', 'cost', 'rank', 'cv',\n",
              "       'GRP', 'reach', 'area', 'kansai_reach', 'chukyo_reach'],\n",
              "      dtype='object')"
            ]
          },
          "metadata": {
            "tags": []
          },
          "execution_count": 87
        }
      ]
    },
    {
      "cell_type": "code",
      "metadata": {
        "colab": {
          "base_uri": "https://localhost:8080/"
        },
        "id": "S8vua_9YxNCm",
        "outputId": "28cd2d03-0c55-499e-f324-e0bd3d7da759"
      },
      "source": [
        "import pandas as pd\n",
        "pd.set_option('display.max_columns', 50)\n",
        "df = pd.read_csv('/content/drive/MyDrive/データ置き場/こくみん共済POC/asako_youtube.csv', dtype=object)\n",
        "print(df.columns)"
      ],
      "execution_count": null,
      "outputs": [
        {
          "output_type": "stream",
          "text": [
            "Index(['date', 'agency', 'media_name', 'media_type', 'lp', 'imp',\n",
            "       'movie_start', 'movie_finish', 'click', 'cost', 'cv'],\n",
            "      dtype='object')\n"
          ],
          "name": "stdout"
        }
      ]
    },
    {
      "cell_type": "code",
      "metadata": {
        "id": "Zsn9IH_Y-MQT"
      },
      "source": [
        "#いっぺんfloatを経由してintに変換\n",
        "int_df = df.astype({'imp': 'float64', 'movie_start':'float64', 'movie_finish':'float64', 'click':'float64', 'cost':'float64', 'cv':'float64'}).copy()\n",
        "int_df.astype({'imp': 'int64', 'movie_start':'float64', 'movie_finish':'float64', 'click':'int64', 'cost':'float64', 'cv':'int64'}).to_csv('asako_youtube.csv', index=False, encoding='utf-8', quoting=2)"
      ],
      "execution_count": null,
      "outputs": []
    },
    {
      "cell_type": "code",
      "metadata": {
        "colab": {
          "base_uri": "https://localhost:8080/"
        },
        "id": "spiOIjdGANi_",
        "outputId": "08a36e59-4567-4f75-caec-4b006fb5c770"
      },
      "source": [
        "from pathlib import Path\n",
        "import pandas as pd\n",
        "pd.set_option('display.max_columns', 50)\n",
        "tweet_df = pd.DataFrame()\n",
        "p = Path('/content/drive/MyDrive/データ置き場/こくみん共済POC/')\n",
        "#for fpath in p.glob('*美*full*.csv'):\n",
        "#for fpath in p.glob('*フルー*30day.csv'):\n",
        "for fpath in p.glob('*.csv'):\n",
        "    print(fpath)\n",
        "    print(str(fpath).replace('.csv', '_re.csv'))\n",
        "    df = pd.read_csv(str(fpath))\n",
        "    df.astype({'imp': 'int64', 'click':'int64', 'cv':'int64'}).to_csv(str(fpath).replace('.csv', '_re.csv'), index=False, encoding='utf-8', quoting=2)"
      ],
      "execution_count": null,
      "outputs": [
        {
          "output_type": "stream",
          "text": [
            "/content/drive/MyDrive/データ置き場/こくみん共済POC/asako_twitter.csv\n",
            "/content/drive/MyDrive/データ置き場/こくみん共済POC/asako_twitter_re.csv\n",
            "/content/drive/MyDrive/データ置き場/こくみん共済POC/daiko_display_dayly.csv\n",
            "/content/drive/MyDrive/データ置き場/こくみん共済POC/daiko_display_dayly_re.csv\n",
            "/content/drive/MyDrive/データ置き場/こくみん共済POC/listing.csv\n",
            "/content/drive/MyDrive/データ置き場/こくみん共済POC/listing_re.csv\n",
            "/content/drive/MyDrive/データ置き場/こくみん共済POC/asako_TVer.csv\n",
            "/content/drive/MyDrive/データ置き場/こくみん共済POC/asako_TVer_re.csv\n",
            "/content/drive/MyDrive/データ置き場/こくみん共済POC/hakuhodo_TVer.csv\n",
            "/content/drive/MyDrive/データ置き場/こくみん共済POC/hakuhodo_TVer_re.csv\n"
          ],
          "name": "stdout"
        }
      ]
    },
    {
      "cell_type": "markdown",
      "metadata": {
        "id": "8GlqzIRJmIt2"
      },
      "source": [
        "\n",
        "\n",
        "#GA\n",
        "\n"
      ]
    },
    {
      "cell_type": "code",
      "metadata": {
        "id": "RFDxE5_EGZw5",
        "colab": {
          "base_uri": "https://localhost:8080/"
        },
        "outputId": "d85245b6-3c50-409f-b1a9-ce9ceca8056f"
      },
      "source": [
        "from pathlib import Path\n",
        "import pandas as pd\n",
        "import numpy as np\n",
        "\n",
        "pd.set_option('display.max_columns', 50)\n",
        "df_ga = pd.DataFrame()\n",
        "p = Path('/content/drive/MyDrive/データ置き場/こくみん共済POC/ga')\n",
        "#searchconsoleで引っ掛かるリストにする=https://www.zenrosai.coop/kyousai/kokumin.htmlしかなかった\n",
        "for fpath in p.glob('*.csv'):\n",
        "    print(fpath)\n",
        "    if fpath.match('*allusers*'):\n",
        "        #df_ga.loc[df_ga['lp'].isna(), 'lp'] = 'allsite'\n",
        "        print('pass')\n",
        "    else:\n",
        "        df_ga = df_ga.append(pd.read_csv(fpath, dtype=object, encoding=\"utf_8\"))\n",
        "        if not 'lp' in df_ga.columns:\n",
        "            df_ga['lp'] = None        \n",
        "        if fpath.match('*ALL*'):        \n",
        "            df_ga.loc[df_ga['lp'].isna(), 'lp'] = 'ALL'\n",
        "        elif fpath.match('*kodomo*'):\n",
        "            df_ga.loc[df_ga['lp'].isna(), 'lp'] = 'kodomo'\n",
        "        elif fpath.match('*zenrosai*'):\n",
        "            df_ga.loc[df_ga['lp'].isna(), 'lp'] = 'zenrosai'\n",
        "df_ga.astype({'Sessions': 'int64', 'kantan_mitsumori':'int64', 'siryou_seikyu':'int64', 'webentry':'int64'}).to_csv('/content/drive/MyDrive/データ置き場/こくみん共済POC/ga_by_lp.csv', index=False, quoting=2, encoding='utf-8')"
      ],
      "execution_count": null,
      "outputs": [
        {
          "output_type": "stream",
          "text": [
            "/content/drive/MyDrive/データ置き場/こくみん共済POC/ga/ga_kyosai_LP_kodomo.csv\n",
            "/content/drive/MyDrive/データ置き場/こくみん共済POC/ga/ga_kyosai_zenrosai.csv\n",
            "/content/drive/MyDrive/データ置き場/こくみん共済POC/ga/ga_kyosai_LP_ALL.csv\n"
          ],
          "name": "stdout"
        }
      ]
    },
    {
      "cell_type": "code",
      "metadata": {
        "id": "50DcUn_Uudoc",
        "colab": {
          "base_uri": "https://localhost:8080/"
        },
        "outputId": "3b79b217-1db2-4012-f810-dbc762dbf762"
      },
      "source": [
        "!pip install --upgrade gspread\n",
        "import gspread\n",
        "from google.colab import auth\n",
        "from oauth2client.client import GoogleCredentials\n",
        "auth.authenticate_user()\n",
        "gc = gspread.authorize(GoogleCredentials.get_application_default())\n",
        "import pandas as pd\n",
        "import numpy as np"
      ],
      "execution_count": null,
      "outputs": [
        {
          "output_type": "stream",
          "text": [
            "Collecting gspread\n",
            "  Downloading https://files.pythonhosted.org/packages/df/f0/e345e7159c89b898f183cc40ed9909619475492bb000652d709f395f096a/gspread-3.7.0-py3-none-any.whl\n",
            "Requirement already satisfied, skipping upgrade: google-auth>=1.12.0 in /usr/local/lib/python3.7/dist-packages (from gspread) (1.28.0)\n",
            "Requirement already satisfied, skipping upgrade: google-auth-oauthlib>=0.4.1 in /usr/local/lib/python3.7/dist-packages (from gspread) (0.4.3)\n",
            "Requirement already satisfied, skipping upgrade: rsa<5,>=3.1.4; python_version >= \"3.6\" in /usr/local/lib/python3.7/dist-packages (from google-auth>=1.12.0->gspread) (4.7.2)\n",
            "Requirement already satisfied, skipping upgrade: setuptools>=40.3.0 in /usr/local/lib/python3.7/dist-packages (from google-auth>=1.12.0->gspread) (54.2.0)\n",
            "Requirement already satisfied, skipping upgrade: six>=1.9.0 in /usr/local/lib/python3.7/dist-packages (from google-auth>=1.12.0->gspread) (1.15.0)\n",
            "Requirement already satisfied, skipping upgrade: pyasn1-modules>=0.2.1 in /usr/local/lib/python3.7/dist-packages (from google-auth>=1.12.0->gspread) (0.2.8)\n",
            "Requirement already satisfied, skipping upgrade: cachetools<5.0,>=2.0.0 in /usr/local/lib/python3.7/dist-packages (from google-auth>=1.12.0->gspread) (4.2.1)\n",
            "Requirement already satisfied, skipping upgrade: requests-oauthlib>=0.7.0 in /usr/local/lib/python3.7/dist-packages (from google-auth-oauthlib>=0.4.1->gspread) (1.3.0)\n",
            "Requirement already satisfied, skipping upgrade: pyasn1>=0.1.3 in /usr/local/lib/python3.7/dist-packages (from rsa<5,>=3.1.4; python_version >= \"3.6\"->google-auth>=1.12.0->gspread) (0.4.8)\n",
            "Requirement already satisfied, skipping upgrade: oauthlib>=3.0.0 in /usr/local/lib/python3.7/dist-packages (from requests-oauthlib>=0.7.0->google-auth-oauthlib>=0.4.1->gspread) (3.1.0)\n",
            "Requirement already satisfied, skipping upgrade: requests>=2.0.0 in /usr/local/lib/python3.7/dist-packages (from requests-oauthlib>=0.7.0->google-auth-oauthlib>=0.4.1->gspread) (2.23.0)\n",
            "Requirement already satisfied, skipping upgrade: idna<3,>=2.5 in /usr/local/lib/python3.7/dist-packages (from requests>=2.0.0->requests-oauthlib>=0.7.0->google-auth-oauthlib>=0.4.1->gspread) (2.10)\n",
            "Requirement already satisfied, skipping upgrade: urllib3!=1.25.0,!=1.25.1,<1.26,>=1.21.1 in /usr/local/lib/python3.7/dist-packages (from requests>=2.0.0->requests-oauthlib>=0.7.0->google-auth-oauthlib>=0.4.1->gspread) (1.24.3)\n",
            "Requirement already satisfied, skipping upgrade: chardet<4,>=3.0.2 in /usr/local/lib/python3.7/dist-packages (from requests>=2.0.0->requests-oauthlib>=0.7.0->google-auth-oauthlib>=0.4.1->gspread) (3.0.4)\n",
            "Requirement already satisfied, skipping upgrade: certifi>=2017.4.17 in /usr/local/lib/python3.7/dist-packages (from requests>=2.0.0->requests-oauthlib>=0.7.0->google-auth-oauthlib>=0.4.1->gspread) (2020.12.5)\n",
            "Installing collected packages: gspread\n",
            "  Found existing installation: gspread 3.0.1\n",
            "    Uninstalling gspread-3.0.1:\n",
            "      Successfully uninstalled gspread-3.0.1\n",
            "Successfully installed gspread-3.7.0\n"
          ],
          "name": "stdout"
        }
      ]
    },
    {
      "cell_type": "code",
      "metadata": {
        "id": "xzIYm4OmHB9I",
        "colab": {
          "base_uri": "https://localhost:8080/",
          "height": 197
        },
        "outputId": "82336a7a-640e-4166-b25a-1ff6ffbfb9ea"
      },
      "source": [
        "import re\n",
        "display_file_id = '1XZMs8A-i5WiFR3IUvvLAZEhX9a3qVMpHe_C9TFazmI8'\n",
        "display_workbook = gc.open_by_key(display_file_id)\n",
        "df_display = pd.DataFrame()\n",
        "for item in display_workbook.worksheets():\n",
        "    if '_' in item.title:\n",
        "        df =  pd.DataFrame(display_workbook.worksheet(item.title).get_all_records())\n",
        "        #print(item.title[item.title.find('_')+1:])\n",
        "        #print(item.title[:item.title.find('_')])\n",
        "        df['agency'] = 'DAIKO'\n",
        "        df['media_name'] = item.title[item.title.find('_')+1:]\n",
        "        if re.findall('GDN|YDN|SMN', item.title) != []:\n",
        "            df['media_type'] = 'display'\n",
        "        else:\n",
        "            df['media_type'] = 'sns'\n",
        "        if 'こども' in item.title:\n",
        "            df['lp'] = 'kodomo'\n",
        "        else: df['lp'] = 'ALL'\n",
        "        df_display = df_display.append(df)\n",
        "df_display.head()"
      ],
      "execution_count": null,
      "outputs": [
        {
          "output_type": "execute_result",
          "data": {
            "text/html": [
              "<div>\n",
              "<style scoped>\n",
              "    .dataframe tbody tr th:only-of-type {\n",
              "        vertical-align: middle;\n",
              "    }\n",
              "\n",
              "    .dataframe tbody tr th {\n",
              "        vertical-align: top;\n",
              "    }\n",
              "\n",
              "    .dataframe thead th {\n",
              "        text-align: right;\n",
              "    }\n",
              "</style>\n",
              "<table border=\"1\" class=\"dataframe\">\n",
              "  <thead>\n",
              "    <tr style=\"text-align: right;\">\n",
              "      <th></th>\n",
              "      <th>日付</th>\n",
              "      <th>クリック</th>\n",
              "      <th>表示回数</th>\n",
              "      <th>金額（税別）</th>\n",
              "      <th>金額（税込）</th>\n",
              "      <th>CV</th>\n",
              "      <th>agency</th>\n",
              "      <th>media_name</th>\n",
              "      <th>media_type</th>\n",
              "      <th>lp</th>\n",
              "    </tr>\n",
              "  </thead>\n",
              "  <tbody>\n",
              "    <tr>\n",
              "      <th>0</th>\n",
              "      <td>2020-01-01</td>\n",
              "      <td>1,042</td>\n",
              "      <td>78,202</td>\n",
              "      <td>¥68,873</td>\n",
              "      <td>¥75,760</td>\n",
              "      <td>8</td>\n",
              "      <td>DAIKO</td>\n",
              "      <td>GDN</td>\n",
              "      <td>display</td>\n",
              "      <td>ALL</td>\n",
              "    </tr>\n",
              "    <tr>\n",
              "      <th>1</th>\n",
              "      <td>2020-01-02</td>\n",
              "      <td>1,015</td>\n",
              "      <td>86,627</td>\n",
              "      <td>¥74,924</td>\n",
              "      <td>¥82,417</td>\n",
              "      <td>13</td>\n",
              "      <td>DAIKO</td>\n",
              "      <td>GDN</td>\n",
              "      <td>display</td>\n",
              "      <td>ALL</td>\n",
              "    </tr>\n",
              "    <tr>\n",
              "      <th>2</th>\n",
              "      <td>2020-01-03</td>\n",
              "      <td>974</td>\n",
              "      <td>82,729</td>\n",
              "      <td>¥71,701</td>\n",
              "      <td>¥78,872</td>\n",
              "      <td>10</td>\n",
              "      <td>DAIKO</td>\n",
              "      <td>GDN</td>\n",
              "      <td>display</td>\n",
              "      <td>ALL</td>\n",
              "    </tr>\n",
              "    <tr>\n",
              "      <th>3</th>\n",
              "      <td>2020-01-04</td>\n",
              "      <td>986</td>\n",
              "      <td>88,894</td>\n",
              "      <td>¥81,707</td>\n",
              "      <td>¥89,878</td>\n",
              "      <td>15</td>\n",
              "      <td>DAIKO</td>\n",
              "      <td>GDN</td>\n",
              "      <td>display</td>\n",
              "      <td>ALL</td>\n",
              "    </tr>\n",
              "    <tr>\n",
              "      <th>4</th>\n",
              "      <td>2020-01-05</td>\n",
              "      <td>447</td>\n",
              "      <td>48,975</td>\n",
              "      <td>¥39,137</td>\n",
              "      <td>¥43,051</td>\n",
              "      <td>7</td>\n",
              "      <td>DAIKO</td>\n",
              "      <td>GDN</td>\n",
              "      <td>display</td>\n",
              "      <td>ALL</td>\n",
              "    </tr>\n",
              "  </tbody>\n",
              "</table>\n",
              "</div>"
            ],
            "text/plain": [
              "           日付     クリック      表示回数   金額（税別）   金額（税込）  CV agency media_name  \\\n",
              "0  2020-01-01   1,042    78,202   ¥68,873  ¥75,760   8  DAIKO        GDN   \n",
              "1  2020-01-02   1,015    86,627   ¥74,924  ¥82,417  13  DAIKO        GDN   \n",
              "2  2020-01-03      974   82,729   ¥71,701  ¥78,872  10  DAIKO        GDN   \n",
              "3  2020-01-04      986   88,894   ¥81,707  ¥89,878  15  DAIKO        GDN   \n",
              "4  2020-01-05      447   48,975   ¥39,137  ¥43,051   7  DAIKO        GDN   \n",
              "\n",
              "  media_type   lp  \n",
              "0    display  ALL  \n",
              "1    display  ALL  \n",
              "2    display  ALL  \n",
              "3    display  ALL  \n",
              "4    display  ALL  "
            ]
          },
          "metadata": {
            "tags": []
          },
          "execution_count": 7
        }
      ]
    },
    {
      "cell_type": "code",
      "metadata": {
        "id": "MGu3z92XVNBA"
      },
      "source": [
        "#https://stackoverflow.com/questions/56947333/how-to-remove-commas-from-all-the-column-in-pandas-at-once\n",
        "df_display = df_display.rename(columns={'クリック':'click', '日付':'date', '表示回数':'imp', '金額（税込）':'cost', 'CV':'cv'})\n",
        "#df_display['click'].str.replace(',','').replace(np.nan,0)\n",
        "#pd.to_numeric(df_display['click'])\n",
        "df_display['click'].replace(',', '', regex=True, inplace=True)\n",
        "df_display['imp'].replace(',', '', regex=True, inplace=True)\n",
        "df_display['cost'].replace(',', '', regex=True, inplace=True)\n",
        "df_display['cv'].replace(',', '', regex=True, inplace=True)\n",
        "df_display['cost'].replace(b'\\xc2\\xa5'.decode(), '', regex=True, inplace=True)\n",
        "df_display = df_display.astype({'click':'int', 'imp':'int', 'cost':'float', 'cv':'int'})"
      ],
      "execution_count": null,
      "outputs": []
    },
    {
      "cell_type": "markdown",
      "metadata": {
        "id": "OWmlakStVlmO"
      },
      "source": [
        "\\\\いぇんマークを取るのにめちゃくちゃ苦労\n",
        "*   str.encode()で文字コードを取得print(item[0].encode())\n",
        "*   そのあとregex = Trueでreplace"
      ]
    },
    {
      "cell_type": "code",
      "metadata": {
        "id": "fa9y9QuXWZlr"
      },
      "source": [
        "df_display[['date', 'agency', 'media_name', 'media_type', 'lp', 'imp', 'click', 'cost', 'cv']].to_csv('/content/drive/MyDrive/データ置き場/こくみん共済POC/daiko_display_daily_detail.csv', index=False, quoting=2, encoding='utf-8')"
      ],
      "execution_count": null,
      "outputs": []
    },
    {
      "cell_type": "code",
      "metadata": {
        "id": "l-3MWl0rbP4C"
      },
      "source": [
        ""
      ],
      "execution_count": null,
      "outputs": []
    }
  ]
}